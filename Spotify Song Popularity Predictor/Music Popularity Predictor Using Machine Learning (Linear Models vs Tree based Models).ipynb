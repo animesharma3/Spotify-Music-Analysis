{
 "cells": [
  {
   "cell_type": "markdown",
   "metadata": {},
   "source": [
    "## Preface\n",
    "In this notebook I am going to build and compare several ML Regression models for predicting a song popularity. I am going to compare and contrast b/w Linear Models like linear, lasso, ridge and elastic net regression and Tree-Based models like Decision Tree, Random Forest, AdaBoost, GBoost and  XGboost.<br> <br>I will do this by following the below stages of a **Data Science project lifecycle** <br>\n",
    "* **Exploratory Data Analysis** (Refer this notebook)\n",
    "* **Feature Engineering**\n",
    "    * Feature Selection\n",
    "    * Feature Scaling of numerical features\n",
    "    * One Hot Encoding of categorical features\n",
    "* **Modelling**\n",
    "    * Linear Models\n",
    "        * *Linear Regression*\n",
    "        * *Lasso Regression*\n",
    "        * *Ridge Regression*\n",
    "        * *ElasticNet Regression*\n",
    "    * Tree Based Ensemble Models\n",
    "        * Bagging Techniques\n",
    "            * *Random Forest*\n",
    "        * Boosting Techniques\n",
    "            * *AdaBoost*\n",
    "            * *Gradient Boosting*\n",
    "            * *XGBoost*\n",
    "    * Artificial Neural Network (Refer this notebook)\n",
    "* **Hyperparameter Tuning**\n",
    "* **Model Evaluation**\n",
    "    * Metrices used\n",
    "        * *R2 Score*\n",
    "        * *Root Mean Squared Error*\n",
    "        * *Mean Squared Error*\n",
    "        * *Mean Absolute Error*\n",
    "* **Model Deployment**"
   ]
  },
  {
   "cell_type": "markdown",
   "metadata": {},
   "source": [
    "## Importing essential libraries"
   ]
  },
  {
   "cell_type": "code",
   "execution_count": 50,
   "metadata": {},
   "outputs": [],
   "source": [
    "import numpy as np\n",
    "import pandas as pd\n",
    "import matplotlib.pyplot as plt\n",
    "import seaborn as sns\n",
    "from yellowbrick.target import FeatureCorrelation # Feature Selection\n",
    "\n",
    "from sklearn.preprocessing import MinMaxScaler # Feature Scaling\n",
    "from sklearn.decomposition import PCA\n",
    "\n",
    "from sklearn.model_selection import train_test_split\n",
    "from sklearn.model_selection import GridSearchCV, KFold # Hyperparameter Tuning\n",
    "\n",
    "# Modelling\n",
    "from sklearn.linear_model import LinearRegression, Lasso, Ridge, ElasticNet # Linear Models\n",
    "from sklearn.ensemble import RandomForestRegressor # Ensemble - Bagging Techniques\n",
    "from sklearn.ensemble import AdaBoostRegressor, GradientBoostingRegressor # Ensemble - Boosting Techniques\n",
    "from xgboost import XGBRegressor # Extreme Gradient Boosting\n",
    "\n",
    "from sklearn.metrics import mean_absolute_error, mean_squared_error, r2_score # Regression Metrices\n",
    "\n",
    "import pickle\n",
    "import warnings\n",
    "warnings.filterwarnings('ignore')"
   ]
  },
  {
   "cell_type": "markdown",
   "metadata": {},
   "source": [
    "## Loading Dataset"
   ]
  },
  {
   "cell_type": "code",
   "execution_count": 51,
   "metadata": {},
   "outputs": [
    {
     "name": "stdout",
     "output_type": "stream",
     "text": [
      "Shape of Data -  (232725, 18)\n"
     ]
    },
    {
     "data": {
      "text/html": [
       "<div>\n",
       "<style scoped>\n",
       "    .dataframe tbody tr th:only-of-type {\n",
       "        vertical-align: middle;\n",
       "    }\n",
       "\n",
       "    .dataframe tbody tr th {\n",
       "        vertical-align: top;\n",
       "    }\n",
       "\n",
       "    .dataframe thead th {\n",
       "        text-align: right;\n",
       "    }\n",
       "</style>\n",
       "<table border=\"1\" class=\"dataframe\">\n",
       "  <thead>\n",
       "    <tr style=\"text-align: right;\">\n",
       "      <th></th>\n",
       "      <th>genre</th>\n",
       "      <th>artist_name</th>\n",
       "      <th>track_name</th>\n",
       "      <th>track_id</th>\n",
       "      <th>popularity</th>\n",
       "      <th>acousticness</th>\n",
       "      <th>danceability</th>\n",
       "      <th>duration_ms</th>\n",
       "      <th>energy</th>\n",
       "      <th>instrumentalness</th>\n",
       "      <th>key</th>\n",
       "      <th>liveness</th>\n",
       "      <th>loudness</th>\n",
       "      <th>mode</th>\n",
       "      <th>speechiness</th>\n",
       "      <th>tempo</th>\n",
       "      <th>time_signature</th>\n",
       "      <th>valence</th>\n",
       "    </tr>\n",
       "  </thead>\n",
       "  <tbody>\n",
       "    <tr>\n",
       "      <th>0</th>\n",
       "      <td>Movie</td>\n",
       "      <td>Henri Salvador</td>\n",
       "      <td>C'est beau de faire un Show</td>\n",
       "      <td>0BRjO6ga9RKCKjfDqeFgWV</td>\n",
       "      <td>0</td>\n",
       "      <td>0.611</td>\n",
       "      <td>0.389</td>\n",
       "      <td>99373</td>\n",
       "      <td>0.910</td>\n",
       "      <td>0.0</td>\n",
       "      <td>C#</td>\n",
       "      <td>0.346</td>\n",
       "      <td>-1.828</td>\n",
       "      <td>Major</td>\n",
       "      <td>0.0525</td>\n",
       "      <td>166.969</td>\n",
       "      <td>4/4</td>\n",
       "      <td>0.814</td>\n",
       "    </tr>\n",
       "    <tr>\n",
       "      <th>1</th>\n",
       "      <td>Movie</td>\n",
       "      <td>Martin &amp; les fées</td>\n",
       "      <td>Perdu d'avance (par Gad Elmaleh)</td>\n",
       "      <td>0BjC1NfoEOOusryehmNudP</td>\n",
       "      <td>1</td>\n",
       "      <td>0.246</td>\n",
       "      <td>0.590</td>\n",
       "      <td>137373</td>\n",
       "      <td>0.737</td>\n",
       "      <td>0.0</td>\n",
       "      <td>F#</td>\n",
       "      <td>0.151</td>\n",
       "      <td>-5.559</td>\n",
       "      <td>Minor</td>\n",
       "      <td>0.0868</td>\n",
       "      <td>174.003</td>\n",
       "      <td>4/4</td>\n",
       "      <td>0.816</td>\n",
       "    </tr>\n",
       "  </tbody>\n",
       "</table>\n",
       "</div>"
      ],
      "text/plain": [
       "   genre        artist_name                        track_name  \\\n",
       "0  Movie     Henri Salvador       C'est beau de faire un Show   \n",
       "1  Movie  Martin & les fées  Perdu d'avance (par Gad Elmaleh)   \n",
       "\n",
       "                 track_id  popularity  acousticness  danceability  \\\n",
       "0  0BRjO6ga9RKCKjfDqeFgWV           0         0.611         0.389   \n",
       "1  0BjC1NfoEOOusryehmNudP           1         0.246         0.590   \n",
       "\n",
       "   duration_ms  energy  instrumentalness key  liveness  loudness   mode  \\\n",
       "0        99373   0.910               0.0  C#     0.346    -1.828  Major   \n",
       "1       137373   0.737               0.0  F#     0.151    -5.559  Minor   \n",
       "\n",
       "   speechiness    tempo time_signature  valence  \n",
       "0       0.0525  166.969            4/4    0.814  \n",
       "1       0.0868  174.003            4/4    0.816  "
      ]
     },
     "execution_count": 51,
     "metadata": {},
     "output_type": "execute_result"
    }
   ],
   "source": [
    "data = pd.read_csv('SpotifyFeatures.csv')\n",
    "print(\"Shape of Data - \", data.shape)\n",
    "data.head(2)"
   ]
  },
  {
   "cell_type": "markdown",
   "metadata": {},
   "source": [
    "## Feature Selection <br>\n",
    "Feature Selection will be done based on <br>\n",
    "* How much a predictor feature is correlated with the target features.\n",
    "* Whether any two features are highly positively correlated with each other. (Muticollinearity)\n",
    "* Features the that are of least importance for the XGBoost"
   ]
  },
  {
   "cell_type": "code",
   "execution_count": 52,
   "metadata": {},
   "outputs": [
    {
     "data": {
      "image/png": "[encoded data removed]",
      "text/plain": [
       "<Figure size 720x720 with 1 Axes>"
      ]
     },
     "metadata": {},
     "output_type": "display_data"
    },
    {
     "data": {
      "text/plain": [
       "<matplotlib.axes._subplots.AxesSubplot at 0x229c6bc0b20>"
      ]
     },
     "execution_count": 52,
     "metadata": {},
     "output_type": "execute_result"
    }
   ],
   "source": [
    "# Plotting Feature Correlation with Target Feature\n",
    "\n",
    "# Select all the numerical features except for the target feature\n",
    "features = [col for col in data.columns if col != 'popularity' and data[col].dtype != 'O']\n",
    "\n",
    "X = data[features] # independent features\n",
    "y = data['popularity'] # target feature\n",
    "\n",
    "fc = FeatureCorrelation(labels=features)\n",
    "plt.rcParams['figure.figsize'] = (10, 10)\n",
    "\n",
    "fc.fit(X, y)\n",
    "fc.show()"
   ]
  },
  {
   "cell_type": "markdown",
   "metadata": {},
   "source": [
    "Looks like **Duration of Song** has **no correlation** with its **Popularity**.<br>\n",
    "Therefore we can eliminate **duration_ms**.<br>\n",
    "But we can spare **valence** and **tempo** for now, I guess."
   ]
  },
  {
   "cell_type": "code",
   "execution_count": 53,
   "metadata": {},
   "outputs": [
    {
     "data": {
      "text/plain": [
       "<matplotlib.axes._subplots.AxesSubplot at 0x229c6bc73a0>"
      ]
     },
     "execution_count": 53,
     "metadata": {},
     "output_type": "execute_result"
    },
    {
     "data": {
      "image/png": "[encoded data removed]",
      "text/plain": [
       "<Figure size 792x648 with 2 Axes>"
      ]
     },
     "metadata": {},
     "output_type": "display_data"
    }
   ],
   "source": [
    "# Compute the correlation matrix\n",
    "corr = data.corr()\n",
    "\n",
    "# Generate the mask for upper triangular matrix\n",
    "mask = np.triu(np.ones_like(corr, dtype=bool))\n",
    "\n",
    "# Set up the matplotlib figure\n",
    "f, ax = plt.subplots(figsize=(11, 9))\n",
    "\n",
    "# Generate a custom diverging colormap\n",
    "cmap = sns.diverging_palette(230, 20, as_cmap=True)\n",
    "\n",
    "# Draw the heatmap with the mask and correct aspect ratio\n",
    "sns.heatmap(corr, mask=mask, cmap=cmap, vmax=.3, center=0, square=True, linewidths=.5, cbar_kws={\"shrink\": .5}, annot=True)"
   ]
  },
  {
   "cell_type": "markdown",
   "metadata": {},
   "source": [
    "I don't see any **Multicollinearity** here, except for **Loudness** and **Energy**, but I am sparing all them features for now."
   ]
  },
  {
   "cell_type": "markdown",
   "metadata": {},
   "source": [
    "## Dropping Unnecessary Features"
   ]
  },
  {
   "cell_type": "code",
   "execution_count": 54,
   "metadata": {},
   "outputs": [
    {
     "data": {
      "text/plain": [
       "Index(['genre', 'artist_name', 'track_name', 'track_id', 'popularity',\n",
       "       'acousticness', 'danceability', 'duration_ms', 'energy',\n",
       "       'instrumentalness', 'key', 'liveness', 'loudness', 'mode',\n",
       "       'speechiness', 'tempo', 'time_signature', 'valence'],\n",
       "      dtype='object')"
      ]
     },
     "execution_count": 54,
     "metadata": {},
     "output_type": "execute_result"
    }
   ],
   "source": [
    "data.columns"
   ]
  },
  {
   "cell_type": "code",
   "execution_count": 55,
   "metadata": {},
   "outputs": [
    {
     "data": {
      "text/plain": [
       "Index(['genre', 'popularity', 'acousticness', 'danceability', 'energy',\n",
       "       'instrumentalness', 'liveness', 'loudness', 'speechiness'],\n",
       "      dtype='object')"
      ]
     },
     "execution_count": 55,
     "metadata": {},
     "output_type": "execute_result"
    }
   ],
   "source": [
    "data.drop(\n",
    "    ['artist_name', 'track_name', 'track_id', 'duration_ms', 'key', 'mode', 'time_signature', 'tempo', 'valence'], \n",
    "    axis=1, inplace=True\n",
    ")\n",
    "# key, mode, time_signature, tempo and valence as they ranked very low w.r.t. XGBRegressor's model feature importance.\n",
    "data.columns"
   ]
  },
  {
   "cell_type": "markdown",
   "metadata": {},
   "source": [
    "## Handling Numerical Features"
   ]
  },
  {
   "cell_type": "code",
   "execution_count": 56,
   "metadata": {},
   "outputs": [],
   "source": [
    "num_features_scaled_bw_0_and_1 = [\n",
    "            'acousticness', 'danceability', 'energy', 'instrumentalness', 'liveness', 'speechiness', 'valence'\n",
    "]\n",
    "other_num_features = ['loudness']"
   ]
  },
  {
   "cell_type": "code",
   "execution_count": 57,
   "metadata": {},
   "outputs": [],
   "source": [
    "# Scaling other numerical features between 0 and 1\n",
    "\n",
    "scaler = MinMaxScaler(feature_range=(0, 1))\n",
    "data[other_num_features] = scaler.fit_transform(data[other_num_features])"
   ]
  },
  {
   "cell_type": "markdown",
   "metadata": {},
   "source": [
    "## Handling Categorical Features"
   ]
  },
  {
   "cell_type": "code",
   "execution_count": 58,
   "metadata": {},
   "outputs": [
    {
     "data": {
      "text/plain": [
       "genre\n",
       "A Capella            119\n",
       "Alternative         9263\n",
       "Anime               8936\n",
       "Blues               9023\n",
       "Children's Music    5403\n",
       "Children’s Music    9353\n",
       "Classical           9256\n",
       "Comedy              9681\n",
       "Country             8664\n",
       "Dance               8701\n",
       "Electronic          9377\n",
       "Folk                9299\n",
       "Hip-Hop             9295\n",
       "Indie               9543\n",
       "Jazz                9441\n",
       "Movie               7806\n",
       "Opera               8280\n",
       "Pop                 9386\n",
       "R&B                 8992\n",
       "Rap                 9232\n",
       "Reggae              8771\n",
       "Reggaeton           8927\n",
       "Rock                9272\n",
       "Ska                 8874\n",
       "Soul                9089\n",
       "Soundtrack          9646\n",
       "World               9096\n",
       "Name: popularity, dtype: int64"
      ]
     },
     "execution_count": 58,
     "metadata": {},
     "output_type": "execute_result"
    }
   ],
   "source": [
    "data.groupby('genre')['popularity'].count()"
   ]
  },
  {
   "cell_type": "code",
   "execution_count": 59,
   "metadata": {},
   "outputs": [
    {
     "data": {
      "text/html": [
       "<div>\n",
       "<style scoped>\n",
       "    .dataframe tbody tr th:only-of-type {\n",
       "        vertical-align: middle;\n",
       "    }\n",
       "\n",
       "    .dataframe tbody tr th {\n",
       "        vertical-align: top;\n",
       "    }\n",
       "\n",
       "    .dataframe thead th {\n",
       "        text-align: right;\n",
       "    }\n",
       "</style>\n",
       "<table border=\"1\" class=\"dataframe\">\n",
       "  <thead>\n",
       "    <tr style=\"text-align: right;\">\n",
       "      <th></th>\n",
       "      <th>popularity</th>\n",
       "      <th>acousticness</th>\n",
       "      <th>danceability</th>\n",
       "      <th>energy</th>\n",
       "      <th>instrumentalness</th>\n",
       "      <th>liveness</th>\n",
       "      <th>loudness</th>\n",
       "      <th>speechiness</th>\n",
       "      <th>genre_Alternative</th>\n",
       "      <th>genre_Anime</th>\n",
       "      <th>...</th>\n",
       "      <th>genre_Pop</th>\n",
       "      <th>genre_R&amp;B</th>\n",
       "      <th>genre_Rap</th>\n",
       "      <th>genre_Reggae</th>\n",
       "      <th>genre_Reggaeton</th>\n",
       "      <th>genre_Rock</th>\n",
       "      <th>genre_Ska</th>\n",
       "      <th>genre_Soul</th>\n",
       "      <th>genre_Soundtrack</th>\n",
       "      <th>genre_World</th>\n",
       "    </tr>\n",
       "  </thead>\n",
       "  <tbody>\n",
       "    <tr>\n",
       "      <th>0</th>\n",
       "      <td>0</td>\n",
       "      <td>0.611</td>\n",
       "      <td>0.389</td>\n",
       "      <td>0.910</td>\n",
       "      <td>0.0</td>\n",
       "      <td>0.346</td>\n",
       "      <td>0.900856</td>\n",
       "      <td>0.0525</td>\n",
       "      <td>0</td>\n",
       "      <td>0</td>\n",
       "      <td>...</td>\n",
       "      <td>0</td>\n",
       "      <td>0</td>\n",
       "      <td>0</td>\n",
       "      <td>0</td>\n",
       "      <td>0</td>\n",
       "      <td>0</td>\n",
       "      <td>0</td>\n",
       "      <td>0</td>\n",
       "      <td>0</td>\n",
       "      <td>0</td>\n",
       "    </tr>\n",
       "    <tr>\n",
       "      <th>1</th>\n",
       "      <td>1</td>\n",
       "      <td>0.246</td>\n",
       "      <td>0.590</td>\n",
       "      <td>0.737</td>\n",
       "      <td>0.0</td>\n",
       "      <td>0.151</td>\n",
       "      <td>0.834469</td>\n",
       "      <td>0.0868</td>\n",
       "      <td>0</td>\n",
       "      <td>0</td>\n",
       "      <td>...</td>\n",
       "      <td>0</td>\n",
       "      <td>0</td>\n",
       "      <td>0</td>\n",
       "      <td>0</td>\n",
       "      <td>0</td>\n",
       "      <td>0</td>\n",
       "      <td>0</td>\n",
       "      <td>0</td>\n",
       "      <td>0</td>\n",
       "      <td>0</td>\n",
       "    </tr>\n",
       "  </tbody>\n",
       "</table>\n",
       "<p>2 rows × 34 columns</p>\n",
       "</div>"
      ],
      "text/plain": [
       "   popularity  acousticness  danceability  energy  instrumentalness  liveness  \\\n",
       "0           0         0.611         0.389   0.910               0.0     0.346   \n",
       "1           1         0.246         0.590   0.737               0.0     0.151   \n",
       "\n",
       "   loudness  speechiness  genre_Alternative  genre_Anime  ...  genre_Pop  \\\n",
       "0  0.900856       0.0525                  0            0  ...          0   \n",
       "1  0.834469       0.0868                  0            0  ...          0   \n",
       "\n",
       "   genre_R&B  genre_Rap  genre_Reggae  genre_Reggaeton  genre_Rock  genre_Ska  \\\n",
       "0          0          0             0                0           0          0   \n",
       "1          0          0             0                0           0          0   \n",
       "\n",
       "   genre_Soul  genre_Soundtrack  genre_World  \n",
       "0           0                 0            0  \n",
       "1           0                 0            0  \n",
       "\n",
       "[2 rows x 34 columns]"
      ]
     },
     "execution_count": 59,
     "metadata": {},
     "output_type": "execute_result"
    }
   ],
   "source": [
    "cat_features = ['genre'] # Genre played an important role for predicting popularity\n",
    "\n",
    "data = pd.get_dummies(data, columns=cat_features) # One Hot Encoding of Categorical features\n",
    "data.drop('genre_A Capella', axis=1, inplace=True) # A Capella was there only 119 times\n",
    "data.head(2)"
   ]
  },
  {
   "cell_type": "markdown",
   "metadata": {},
   "source": [
    "## Modelling"
   ]
  },
  {
   "cell_type": "code",
   "execution_count": 60,
   "metadata": {},
   "outputs": [],
   "source": [
    "X = data.drop(['popularity'], axis=1) # independent features\n",
    "y = data['popularity'] # dependent features"
   ]
  },
  {
   "cell_type": "markdown",
   "metadata": {},
   "source": [
    "### Dimensionality Reduction for visualization"
   ]
  },
  {
   "cell_type": "code",
   "execution_count": 61,
   "metadata": {},
   "outputs": [],
   "source": [
    "pca = PCA(n_components=1) # Taking 1 components just so we can visualize better\n",
    "X = pca.fit_transform(X)"
   ]
  },
  {
   "cell_type": "code",
   "execution_count": 37,
   "metadata": {},
   "outputs": [
    {
     "data": {
      "text/plain": [
       "<matplotlib.axes._subplots.AxesSubplot at 0x229bbd0f100>"
      ]
     },
     "execution_count": 37,
     "metadata": {},
     "output_type": "execute_result"
    },
    {
     "data": {
      "image/png": "[encoded data removed]",
      "text/plain": [
       "<Figure size 720x720 with 1 Axes>"
      ]
     },
     "metadata": {},
     "output_type": "display_data"
    }
   ],
   "source": [
    "sns.regplot(X, y, line_kws={'color': 'black'})"
   ]
  },
  {
   "cell_type": "markdown",
   "metadata": {},
   "source": [
    "**Clearly Predicting Popularity will give me hell!**. But I will try my best to up my r2-score"
   ]
  },
  {
   "cell_type": "code",
   "execution_count": 62,
   "metadata": {},
   "outputs": [],
   "source": [
    "X = data.drop(['popularity'], axis=1) # independent features\n",
    "X_train, X_test, y_train, y_test = train_test_split(X, y, test_size=0.2)"
   ]
  },
  {
   "cell_type": "markdown",
   "metadata": {},
   "source": [
    "### Math behind the metrices used"
   ]
  },
  {
   "cell_type": "markdown",
   "metadata": {},
   "source": [
    "#### R2 Score\n",
    "  <img src='https://miro.medium.com/max/2812/1*_HbrAW-tMRBli6ASD5Bttw.png' width=\"300\">\n",
    "\n",
    "**Best possible r2-score is 1.0** and it can be negative (because the model can be arbitrarily worse). \n",
    "<br>A constant model that always predicts the expected value of y, disregarding the input features, would get a R^2 score of 0.0.\n",
    " \n",
    "#### Mean Squared Error\n",
    "  <img src='https://cdn-media-1.freecodecamp.org/images/hmZydSW9YegiMVPWq2JBpOpai3CejzQpGkNG' width='300'>\n",
    "  \n",
    "#### Mean Absolute Error\n",
    "  <img src='https://miro.medium.com/max/1040/1*tu6FSDz_FhQbR3UHQIaZNg.png' width='300'>\n",
    " \n",
    "#### Root Mean Squared Error\n",
    "  <img src='https://miro.medium.com/max/966/1*lqDsPkfXPGen32Uem1PTNg.png' width='300'>\n",
    " \n",
    "**Model with the least rmse, mse and mae would the best model.**"
   ]
  },
  {
   "cell_type": "code",
   "execution_count": 63,
   "metadata": {},
   "outputs": [],
   "source": [
    "# Regression Model Report\n",
    "\n",
    "def build_model_report(model, X_test, y_test):\n",
    "    \n",
    "    y_pred = model.predict(X_test)\n",
    "    \n",
    "    mae = mean_absolute_error(y_test, y_pred) # Mean Absolute Error\n",
    "    mse = mean_squared_error(y_test, y_pred) # Mean Squared Error\n",
    "    rmse = np.sqrt(mean_squared_error(y_test, y_pred)) # Root Mean Squared Error\n",
    "    r2 = r2_score(y_test, y_pred) # R2 Score\n",
    "    \n",
    "    return {'mae': mae, 'mse': mse, 'rmse': rmse, 'r2_score': r2}"
   ]
  },
  {
   "cell_type": "markdown",
   "metadata": {},
   "source": [
    "### Cross Validation"
   ]
  },
  {
   "cell_type": "code",
   "execution_count": 85,
   "metadata": {},
   "outputs": [],
   "source": [
    "# K-fold Cross Validaiton\n",
    "\n",
    "def cross_validate(model, X, y, n_splits=5):\n",
    "    \n",
    "    kfold = KFold(n_splits, True)\n",
    "    scores = []\n",
    "\n",
    "    # enumerate splits\n",
    "    for train, test in kfold.split(data):\n",
    "        train_X, test_X = X.iloc[train], X.iloc[test]\n",
    "        train_Y, test_Y = y.iloc[train], y.iloc[test]\n",
    "\n",
    "        model = model.fit(train_X, train_Y)\n",
    "        pred_Y = model.predict(test_X)\n",
    "        score = build_model_report(model, X_test, y_test)\n",
    "        scores.append(score)\n",
    "    \n",
    "    # Mean Scores\n",
    "    mae = np.mean([score['mae'] for score in scores])\n",
    "    mse = np.mean([score['mse'] for score in scores])\n",
    "    rmse = np.mean([score['rmse'] for score in scores])\n",
    "    r2 = np.mean([score['r2_score'] for score in scores])\n",
    "    \n",
    "    print(\"Mean Absolute Error - \", mae)\n",
    "    print(\"Mean Squared Error - \", mse)\n",
    "    print(\"Root Mean Squared Error - \", rmse)\n",
    "    print(\"R2-Score\", r2)\n",
    "    \n",
    "    return scores"
   ]
  },
  {
   "cell_type": "markdown",
   "metadata": {},
   "source": [
    "## Linear Models"
   ]
  },
  {
   "cell_type": "markdown",
   "metadata": {},
   "source": [
    "### Linear Regression"
   ]
  },
  {
   "cell_type": "code",
   "execution_count": 65,
   "metadata": {},
   "outputs": [
    {
     "name": "stdout",
     "output_type": "stream",
     "text": [
      "{'mae': 7.264327231600565, 'mse': 91.54074538307512, 'rmse': 9.56769279309673, 'r2_score': 0.7240713263593559}\n"
     ]
    }
   ],
   "source": [
    "# Linear Regression\n",
    "\n",
    "model_lr = LinearRegression()\n",
    "model_lr.fit(X_train, y_train)\n",
    "\n",
    "print(build_model_report(model_lr, X_test, y_test))"
   ]
  },
  {
   "cell_type": "code",
   "execution_count": 96,
   "metadata": {},
   "outputs": [
    {
     "name": "stdout",
     "output_type": "stream",
     "text": [
      "Mean Absolute Error -  7.260376162109507\n",
      "Mean Squared Error -  91.5072677680592\n",
      "Root Mean Squared Error -  9.565943117920101\n",
      "R2-Score 0.7241722369852127\n"
     ]
    }
   ],
   "source": [
    "# Linear Regression with 10-Fold CV\n",
    "\n",
    "model_lr_cv = LinearRegression()\n",
    "\n",
    "score_lr = cross_validate(model_lr_cv, X, y, 10)"
   ]
  },
  {
   "cell_type": "markdown",
   "metadata": {},
   "source": [
    "### L1 Regulartization - Lasso Regression"
   ]
  },
  {
   "cell_type": "code",
   "execution_count": 91,
   "metadata": {},
   "outputs": [
    {
     "name": "stdout",
     "output_type": "stream",
     "text": [
      "{'mae': 13.90421032725752, 'mse': 292.1467757799946, 'rmse': 17.092301652498254, 'r2_score': 0.11939025608733178}\n"
     ]
    }
   ],
   "source": [
    "# Lasso Regression - L1 Regularization\n",
    "\n",
    "model_l1 = Lasso()\n",
    "model_l1.fit(X_train, y_train)\n",
    "\n",
    "score_l1 = build_model_report(model_l1, X_test, y_test)\n",
    "print(score_l1)"
   ]
  },
  {
   "cell_type": "code",
   "execution_count": 68,
   "metadata": {},
   "outputs": [
    {
     "name": "stdout",
     "output_type": "stream",
     "text": [
      "Mean Absolute Error -  13.90715974655954\n",
      "Mean Squared Error -  292.2452546428835\n",
      "Root Mean Squared Error -  17.095181992596164\n",
      "R2-Score 0.11909341404278802\n"
     ]
    }
   ],
   "source": [
    "# Lasso Regression with 10-Fold CV\n",
    "\n",
    "model_l1_cv = Lasso()\n",
    "\n",
    "scores = cross_validate(model_l1_cv, X, y, n_splits=10)"
   ]
  },
  {
   "cell_type": "code",
   "execution_count": 69,
   "metadata": {},
   "outputs": [
    {
     "data": {
      "text/plain": [
       "GridSearchCV(cv=10, estimator=Lasso(),\n",
       "             param_grid={'alpha': array([5.  , 0.5 , 0.05, 1.  , 0.1 , 0.01])},\n",
       "             scoring='neg_root_mean_squared_error')"
      ]
     },
     "execution_count": 69,
     "metadata": {},
     "output_type": "execute_result"
    }
   ],
   "source": [
    "param_grid = {\n",
    "    'alpha': np.array([5, 0.5, 0.05, 1, 0.1, 0.01])\n",
    "}\n",
    "grid_lasso = GridSearchCV(\n",
    "        estimator=Lasso(),\n",
    "        param_grid=param_grid,\n",
    "        cv=10, scoring='neg_root_mean_squared_error'\n",
    "    )\n",
    "grid_lasso.fit(X, y)"
   ]
  },
  {
   "cell_type": "code",
   "execution_count": 87,
   "metadata": {},
   "outputs": [
    {
     "name": "stdout",
     "output_type": "stream",
     "text": [
      "Best Estimator  Lasso(alpha=0.05)\n",
      "Best Score  14.19637648891776\n"
     ]
    }
   ],
   "source": [
    "print(\"Best Estimator \", grid_lasso.best_estimator_)\n",
    "print(\"Best Score \", -grid_lasso.best_score_)"
   ]
  },
  {
   "cell_type": "code",
   "execution_count": 92,
   "metadata": {},
   "outputs": [
    {
     "name": "stdout",
     "output_type": "stream",
     "text": [
      "{'mae': 7.3829813433476525, 'mse': 94.10178332097261, 'rmse': 9.700607368663707, 'r2_score': 0.7163516623082253}\n"
     ]
    }
   ],
   "source": [
    "score_l1 = build_model_report(grid_lasso, X_test, y_test)\n",
    "print(score_l1)"
   ]
  },
  {
   "cell_type": "markdown",
   "metadata": {},
   "source": [
    "### L2 Regularization - Ridge Regression"
   ]
  },
  {
   "cell_type": "code",
   "execution_count": 71,
   "metadata": {},
   "outputs": [
    {
     "name": "stdout",
     "output_type": "stream",
     "text": [
      "{'mae': 7.266414236382419, 'mse': 91.57896885477122, 'rmse': 9.569690112786892, 'r2_score': 0.7239561104322525}\n"
     ]
    }
   ],
   "source": [
    "# Ridge Regression - L2 Regularization\n",
    "\n",
    "model_l2 = Ridge()\n",
    "model_l2.fit(X_train, y_train)\n",
    "\n",
    "print(build_model_report(model_l2, X_test, y_test))"
   ]
  },
  {
   "cell_type": "code",
   "execution_count": 72,
   "metadata": {},
   "outputs": [
    {
     "data": {
      "text/plain": [
       "GridSearchCV(cv=10, estimator=Ridge(),\n",
       "             param_grid={'alpha': array([5.  , 0.5 , 0.05, 1.  , 0.1 , 0.01])},\n",
       "             scoring='neg_root_mean_squared_error')"
      ]
     },
     "execution_count": 72,
     "metadata": {},
     "output_type": "execute_result"
    }
   ],
   "source": [
    "param_grid = {\n",
    "    'alpha': np.array([5, 0.5, 0.05, 1, 0.1, 0.01])\n",
    "}\n",
    "grid_ridge = GridSearchCV(\n",
    "        estimator=Ridge(),\n",
    "        param_grid=param_grid,\n",
    "        cv=10, scoring='neg_root_mean_squared_error'\n",
    "    )\n",
    "grid_ridge.fit(X, y)"
   ]
  },
  {
   "cell_type": "code",
   "execution_count": 73,
   "metadata": {},
   "outputs": [
    {
     "name": "stdout",
     "output_type": "stream",
     "text": [
      "Best Estimator  Ridge(alpha=5.0)\n",
      "Best Score  -13.95082338870784\n"
     ]
    }
   ],
   "source": [
    "print(\"Best Estimator \", grid_ridge.best_estimator_)\n",
    "print(\"Best Score \", grid_ridge.best_score_)"
   ]
  },
  {
   "cell_type": "code",
   "execution_count": 93,
   "metadata": {},
   "outputs": [
    {
     "name": "stdout",
     "output_type": "stream",
     "text": [
      "{'mae': 7.266862072678095, 'mse': 91.67650097900179, 'rmse': 9.574784644001232, 'r2_score': 0.7236621221152066}\n"
     ]
    }
   ],
   "source": [
    "score_l2 = build_model_report(grid_ridge, X_test, y_test)\n",
    "print(score_l2)"
   ]
  },
  {
   "cell_type": "markdown",
   "metadata": {},
   "source": [
    "### Combining Both Lasso and Ridge Regression - ElasticNet Regression"
   ]
  },
  {
   "cell_type": "code",
   "execution_count": 74,
   "metadata": {},
   "outputs": [
    {
     "name": "stdout",
     "output_type": "stream",
     "text": [
      "{'mae': 14.262861963714304, 'mse': 305.5419324324001, 'rmse': 17.479757791010723, 'r2_score': 0.07901361514083738}\n"
     ]
    }
   ],
   "source": [
    "# ElasticNet Regression\n",
    "\n",
    "model_en = ElasticNet()\n",
    "model_en.fit(X_train, y_train)\n",
    "\n",
    "print(build_model_report(model_en, X_test, y_test))"
   ]
  },
  {
   "cell_type": "code",
   "execution_count": 75,
   "metadata": {},
   "outputs": [
    {
     "data": {
      "text/plain": [
       "GridSearchCV(cv=10, estimator=ElasticNet(),\n",
       "             param_grid={'alpha': array([5.  , 0.5 , 0.05, 1.  , 0.1 , 0.01])},\n",
       "             scoring='neg_root_mean_squared_error')"
      ]
     },
     "execution_count": 75,
     "metadata": {},
     "output_type": "execute_result"
    }
   ],
   "source": [
    "param_grid = {\n",
    "    'alpha': np.array([5, 0.5, 0.05, 1, 0.1, 0.01])\n",
    "}\n",
    "grid_en = GridSearchCV(\n",
    "        estimator=ElasticNet(),\n",
    "        param_grid=param_grid,\n",
    "        cv=10, scoring='neg_root_mean_squared_error'\n",
    "    )\n",
    "grid_en.fit(X, y)"
   ]
  },
  {
   "cell_type": "code",
   "execution_count": 76,
   "metadata": {},
   "outputs": [
    {
     "name": "stdout",
     "output_type": "stream",
     "text": [
      "Best Estimator  ElasticNet(alpha=0.01)\n",
      "Best Score  -13.847953532144725\n"
     ]
    }
   ],
   "source": [
    "print(\"Best Estimator \", grid_en.best_estimator_)\n",
    "print(\"Best Score \", grid_en.best_score_)"
   ]
  },
  {
   "cell_type": "code",
   "execution_count": 94,
   "metadata": {},
   "outputs": [
    {
     "name": "stdout",
     "output_type": "stream",
     "text": [
      "{'mae': 7.534837117096666, 'mse': 96.92468658692788, 'rmse': 9.845033600091362, 'r2_score': 0.7078426650225762}\n"
     ]
    }
   ],
   "source": [
    "score_en = build_model_report(grid_en, X_test, y_test)\n",
    "print(score_en)"
   ]
  },
  {
   "cell_type": "markdown",
   "metadata": {},
   "source": [
    "## Ensemble Models"
   ]
  },
  {
   "cell_type": "markdown",
   "metadata": {},
   "source": [
    "### Bagging - Random Forest"
   ]
  },
  {
   "cell_type": "code",
   "execution_count": 77,
   "metadata": {},
   "outputs": [
    {
     "name": "stdout",
     "output_type": "stream",
     "text": [
      "{'mae': 7.245094406675909, 'mse': 90.65856086378912, 'rmse': 9.52147892208921, 'r2_score': 0.7267304701460298}\n"
     ]
    }
   ],
   "source": [
    "model_rfc = RandomForestRegressor()\n",
    "model_rfc.fit(X_train, y_train)\n",
    "\n",
    "print(build_model_report(model_rfc, X_test, y_test))"
   ]
  },
  {
   "cell_type": "markdown",
   "metadata": {},
   "source": [
    "### Boosting - AdaBoost"
   ]
  },
  {
   "cell_type": "code",
   "execution_count": 78,
   "metadata": {},
   "outputs": [
    {
     "name": "stdout",
     "output_type": "stream",
     "text": [
      "{'mae': 12.329806523537416, 'mse': 228.6865696902046, 'rmse': 15.122386375509805, 'r2_score': 0.3106765562156588}\n"
     ]
    }
   ],
   "source": [
    "model_ada = AdaBoostRegressor()\n",
    "model_ada.fit(X_train, y_train)\n",
    "\n",
    "print(build_model_report(model_ada, X_test, y_test))"
   ]
  },
  {
   "cell_type": "markdown",
   "metadata": {},
   "source": [
    "### Boosting - Gradient Boosting"
   ]
  },
  {
   "cell_type": "code",
   "execution_count": 79,
   "metadata": {},
   "outputs": [
    {
     "name": "stdout",
     "output_type": "stream",
     "text": [
      "      Iter       Train Loss   Remaining Time \n",
      "         1         310.5381            1.58m\n",
      "         2         293.5500            1.50m\n",
      "         3         279.3901            1.44m\n",
      "         4         266.8460            1.40m\n",
      "         5         256.2881            1.38m\n",
      "         6         246.4694            1.35m\n",
      "         7         237.3162            1.33m\n",
      "         8         229.3524            1.32m\n",
      "         9         222.3402            1.30m\n",
      "        10         215.8905            1.28m\n",
      "        11         209.5221            1.26m\n",
      "        12         203.8834            1.25m\n",
      "        13         198.1062            1.23m\n",
      "        14         193.1746            1.21m\n",
      "        15         188.7654            1.20m\n",
      "        16         184.7004            1.18m\n",
      "        17         180.6215            1.17m\n",
      "        18         176.8445            1.15m\n",
      "        19         173.5257            1.14m\n",
      "        20         170.2937            1.13m\n",
      "        21         167.2719            1.11m\n",
      "        22         164.4425            1.10m\n",
      "        23         161.7067            1.08m\n",
      "        24         159.0984            1.07m\n",
      "        25         156.6828            1.05m\n",
      "        26         154.3639            1.04m\n",
      "        27         152.1683            1.02m\n",
      "        28         150.0906            1.01m\n",
      "        29         148.0797           59.59s\n",
      "        30         146.0787           58.71s\n",
      "        31         144.3003           57.89s\n",
      "        32         142.5692           57.05s\n",
      "        33         140.9141           56.17s\n",
      "        34         139.3039           55.32s\n",
      "        35         137.7522           54.77s\n",
      "        36         136.3161           54.20s\n",
      "        37         134.9574           53.36s\n",
      "        38         133.6355           52.56s\n",
      "        39         132.3202           51.71s\n",
      "        40         131.0595           50.93s\n",
      "        41         129.8915           50.11s\n",
      "        42         128.7589           49.29s\n",
      "        43         127.6555           48.41s\n",
      "        44         126.5625           47.53s\n",
      "        45         125.5142           46.64s\n",
      "        46         124.4785           45.78s\n",
      "        47         123.5169           44.90s\n",
      "        48         122.5992           44.06s\n",
      "        49         121.6947           43.18s\n",
      "        50         120.8395           42.31s\n",
      "        51         120.0173           41.44s\n",
      "        52         119.2488           40.58s\n",
      "        53         118.4901           39.68s\n",
      "        54         117.7376           38.86s\n",
      "        55         117.0192           38.02s\n",
      "        56         116.2942           37.17s\n",
      "        57         115.6369           36.34s\n",
      "        58         114.9928           35.50s\n",
      "        59         114.3566           35.90s\n",
      "        60         113.7587           35.05s\n",
      "        61         113.1532           34.13s\n",
      "        62         112.4867           33.25s\n",
      "        63         111.8481           32.37s\n",
      "        64         111.2748           31.45s\n",
      "        65         110.7427           30.52s\n",
      "        66         110.2281           29.67s\n",
      "        67         109.7170           28.82s\n",
      "        68         109.2036           27.96s\n",
      "        69         108.7383           27.06s\n",
      "        70         108.2861           26.18s\n",
      "        71         107.6977           25.29s\n",
      "        72         107.2605           24.40s\n",
      "        73         106.7654           23.52s\n",
      "        74         106.3709           22.63s\n",
      "        75         105.9668           21.74s\n",
      "        76         105.5582           20.86s\n",
      "        77         105.1801           19.98s\n",
      "        78         104.7839           19.10s\n",
      "        79         104.4446           18.22s\n",
      "        80         104.1188           17.32s\n",
      "        81         103.7961           16.45s\n",
      "        82         103.4153           15.57s\n",
      "        83         103.0858           14.70s\n",
      "        84         102.7792           13.82s\n",
      "        85         102.5027           12.95s\n",
      "        86         102.2239           12.08s\n",
      "        87         101.9266           11.21s\n",
      "        88         101.6408           10.35s\n",
      "        89         101.3024            9.48s\n",
      "        90         101.0029            8.61s\n",
      "        91         100.7196            7.75s\n",
      "        92         100.4525            6.89s\n",
      "        93         100.2147            6.02s\n",
      "        94          99.8803            5.16s\n",
      "        95          99.6693            4.30s\n",
      "        96          99.4627            3.44s\n",
      "        97          99.2587            2.58s\n",
      "        98          99.0631            1.72s\n",
      "        99          98.8722            0.86s\n",
      "       100          98.6536            0.00s\n",
      "{'mae': 7.634696012776051, 'mse': 99.17498380623177, 'rmse': 9.958663756058428, 'r2_score': 0.7010596579100457}\n"
     ]
    }
   ],
   "source": [
    "model_gb = GradientBoostingRegressor(verbose=2)\n",
    "model_gb.fit(X_train, y_train)\n",
    "\n",
    "print(build_model_report(model_gb, X_test, y_test))"
   ]
  },
  {
   "cell_type": "markdown",
   "metadata": {},
   "source": [
    "### Boosting - Extreme Gradient Boosting (XGBoost)"
   ]
  },
  {
   "cell_type": "code",
   "execution_count": 80,
   "metadata": {},
   "outputs": [
    {
     "name": "stdout",
     "output_type": "stream",
     "text": [
      "{'mae': 7.137892210991621, 'mse': 88.36104028312246, 'rmse': 9.400055334045778, 'r2_score': 0.7336558212979403}\n"
     ]
    }
   ],
   "source": [
    "model_xgb = XGBRegressor()\n",
    "model_xgb.fit(X_train, y_train)\n",
    "\n",
    "print(build_model_report(model_xgb, X_test, y_test))"
   ]
  },
  {
   "cell_type": "code",
   "execution_count": 81,
   "metadata": {},
   "outputs": [
    {
     "data": {
      "text/plain": [
       "{'objective': 'reg:squarederror',\n",
       " 'base_score': 0.5,\n",
       " 'booster': 'gbtree',\n",
       " 'colsample_bylevel': 1,\n",
       " 'colsample_bynode': 1,\n",
       " 'colsample_bytree': 1,\n",
       " 'gamma': 0,\n",
       " 'gpu_id': -1,\n",
       " 'importance_type': 'gain',\n",
       " 'interaction_constraints': '',\n",
       " 'learning_rate': 0.300000012,\n",
       " 'max_delta_step': 0,\n",
       " 'max_depth': 6,\n",
       " 'min_child_weight': 1,\n",
       " 'missing': nan,\n",
       " 'monotone_constraints': '()',\n",
       " 'n_estimators': 100,\n",
       " 'n_jobs': 2,\n",
       " 'num_parallel_tree': 1,\n",
       " 'random_state': 0,\n",
       " 'reg_alpha': 0,\n",
       " 'reg_lambda': 1,\n",
       " 'scale_pos_weight': 1,\n",
       " 'subsample': 1,\n",
       " 'tree_method': 'exact',\n",
       " 'validate_parameters': 1,\n",
       " 'verbosity': None}"
      ]
     },
     "execution_count": 81,
     "metadata": {},
     "output_type": "execute_result"
    }
   ],
   "source": [
    "model_xgb.get_params()"
   ]
  },
  {
   "cell_type": "code",
   "execution_count": 82,
   "metadata": {},
   "outputs": [
    {
     "data": {
      "text/plain": [
       "<matplotlib.axes._subplots.AxesSubplot at 0x229802115b0>"
      ]
     },
     "execution_count": 82,
     "metadata": {},
     "output_type": "execute_result"
    },
    {
     "data": {
      "image/png": "[encoded data removed]",
      "text/plain": [
       "<Figure size 720x720 with 1 Axes>"
      ]
     },
     "metadata": {},
     "output_type": "display_data"
    }
   ],
   "source": [
    "# Plotting features importance for XGBoost\n",
    "feat_imp = model_xgb.feature_importances_\n",
    "feat = data.drop(['popularity'],axis=1).columns.values\n",
    "imp_feat_df = pd.DataFrame({'feature': feat, 'feat_imp': feat_imp})\n",
    "sns.barplot(imp_feat_df['feat_imp'], imp_feat_df['feature'], orient='h')"
   ]
  },
  {
   "cell_type": "code",
   "execution_count": null,
   "metadata": {},
   "outputs": [],
   "source": []
  }
 ],
 "metadata": {
  "kernelspec": {
   "display_name": "Python 3",
   "language": "python",
   "name": "python3"
  },
  "language_info": {
   "codemirror_mode": {
    "name": "ipython",
    "version": 3
   },
   "file_extension": ".py",
   "mimetype": "text/x-python",
   "name": "python",
   "nbconvert_exporter": "python",
   "pygments_lexer": "ipython3",
   "version": "3.8.3"
  }
 },
 "nbformat": 4,
 "nbformat_minor": 4
}
